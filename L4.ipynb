{
 "cells": [
  {
   "cell_type": "markdown",
   "metadata": {},
   "source": [
    "# 第４回 機械学習 前処理、最適化 "
   ]
  },
  {
   "cell_type": "markdown",
   "metadata": {},
   "source": [
    "## 4-1. ライブラリー、ファイル読み込み"
   ]
  },
  {
   "cell_type": "code",
   "execution_count": 1,
   "metadata": {},
   "outputs": [],
   "source": [
    "# OS（オペレーティングシステム）に依存した機能を使うための標準ライブラリ\n",
    "import os\n",
    "#os.getcwd() # 現在のディレクトリを返す"
   ]
  },
  {
   "cell_type": "code",
   "execution_count": 2,
   "metadata": {},
   "outputs": [],
   "source": [
    "# Library の読み込み\n",
    "import sys # Pythonのインタプリタや実行環境に関する情報を扱うためのライブラリ\n",
    "import pandas as pd # データを扱うための標準的なライブラリ\n",
    "import numpy as np # 多次元配列を扱う数値演算ライブラリ\n",
    "import scipy as sp # 高度な科学計算を行うためのライブラリ\n",
    "import sklearn # 機械学習のライブラリ"
   ]
  },
  {
   "cell_type": "code",
   "execution_count": 3,
   "metadata": {
    "scrolled": true
   },
   "outputs": [
    {
     "data": {
      "text/html": [
       "<div>\n",
       "<style scoped>\n",
       "    .dataframe tbody tr th:only-of-type {\n",
       "        vertical-align: middle;\n",
       "    }\n",
       "\n",
       "    .dataframe tbody tr th {\n",
       "        vertical-align: top;\n",
       "    }\n",
       "\n",
       "    .dataframe thead th {\n",
       "        text-align: right;\n",
       "    }\n",
       "</style>\n",
       "<table border=\"1\" class=\"dataframe\">\n",
       "  <thead>\n",
       "    <tr style=\"text-align: right;\">\n",
       "      <th></th>\n",
       "      <th>Mean of the integrated profile</th>\n",
       "      <th>Standard deviation of the integrated profile</th>\n",
       "      <th>Excess kurtosis of the integrated profile</th>\n",
       "      <th>Skewness of the integrated profile</th>\n",
       "      <th>Mean of the DM-SNR curve</th>\n",
       "      <th>Standard deviation of the DM-SNR curve</th>\n",
       "      <th>Excess kurtosis of the DM-SNR curve</th>\n",
       "      <th>Skewness of the DM-SNR curve</th>\n",
       "      <th>target_class</th>\n",
       "    </tr>\n",
       "  </thead>\n",
       "  <tbody>\n",
       "    <tr>\n",
       "      <th>0</th>\n",
       "      <td>126.140625</td>\n",
       "      <td>44.752398</td>\n",
       "      <td>0.288784</td>\n",
       "      <td>0.224826</td>\n",
       "      <td>4.030936</td>\n",
       "      <td>20.681124</td>\n",
       "      <td>5.952513</td>\n",
       "      <td>40.718632</td>\n",
       "      <td>0</td>\n",
       "    </tr>\n",
       "    <tr>\n",
       "      <th>1</th>\n",
       "      <td>112.000000</td>\n",
       "      <td>44.350169</td>\n",
       "      <td>0.286629</td>\n",
       "      <td>0.509146</td>\n",
       "      <td>0.960702</td>\n",
       "      <td>12.094775</td>\n",
       "      <td>15.353675</td>\n",
       "      <td>263.442386</td>\n",
       "      <td>0</td>\n",
       "    </tr>\n",
       "    <tr>\n",
       "      <th>2</th>\n",
       "      <td>80.140625</td>\n",
       "      <td>34.426265</td>\n",
       "      <td>1.697879</td>\n",
       "      <td>6.213364</td>\n",
       "      <td>7.822742</td>\n",
       "      <td>38.341936</td>\n",
       "      <td>5.048004</td>\n",
       "      <td>24.802277</td>\n",
       "      <td>1</td>\n",
       "    </tr>\n",
       "    <tr>\n",
       "      <th>3</th>\n",
       "      <td>52.109375</td>\n",
       "      <td>38.677803</td>\n",
       "      <td>3.179048</td>\n",
       "      <td>13.629142</td>\n",
       "      <td>4.081104</td>\n",
       "      <td>25.045129</td>\n",
       "      <td>7.126208</td>\n",
       "      <td>54.323798</td>\n",
       "      <td>1</td>\n",
       "    </tr>\n",
       "    <tr>\n",
       "      <th>4</th>\n",
       "      <td>96.039062</td>\n",
       "      <td>39.929117</td>\n",
       "      <td>0.383327</td>\n",
       "      <td>1.421057</td>\n",
       "      <td>2.505853</td>\n",
       "      <td>17.662456</td>\n",
       "      <td>8.849294</td>\n",
       "      <td>90.581797</td>\n",
       "      <td>0</td>\n",
       "    </tr>\n",
       "  </tbody>\n",
       "</table>\n",
       "</div>"
      ],
      "text/plain": [
       "    Mean of the integrated profile  \\\n",
       "0                       126.140625   \n",
       "1                       112.000000   \n",
       "2                        80.140625   \n",
       "3                        52.109375   \n",
       "4                        96.039062   \n",
       "\n",
       "    Standard deviation of the integrated profile  \\\n",
       "0                                      44.752398   \n",
       "1                                      44.350169   \n",
       "2                                      34.426265   \n",
       "3                                      38.677803   \n",
       "4                                      39.929117   \n",
       "\n",
       "    Excess kurtosis of the integrated profile  \\\n",
       "0                                    0.288784   \n",
       "1                                    0.286629   \n",
       "2                                    1.697879   \n",
       "3                                    3.179048   \n",
       "4                                    0.383327   \n",
       "\n",
       "    Skewness of the integrated profile   Mean of the DM-SNR curve  \\\n",
       "0                             0.224826                   4.030936   \n",
       "1                             0.509146                   0.960702   \n",
       "2                             6.213364                   7.822742   \n",
       "3                            13.629142                   4.081104   \n",
       "4                             1.421057                   2.505853   \n",
       "\n",
       "    Standard deviation of the DM-SNR curve  \\\n",
       "0                                20.681124   \n",
       "1                                12.094775   \n",
       "2                                38.341936   \n",
       "3                                25.045129   \n",
       "4                                17.662456   \n",
       "\n",
       "    Excess kurtosis of the DM-SNR curve   Skewness of the DM-SNR curve  \\\n",
       "0                              5.952513                      40.718632   \n",
       "1                             15.353675                     263.442386   \n",
       "2                              5.048004                      24.802277   \n",
       "3                              7.126208                      54.323798   \n",
       "4                              8.849294                      90.581797   \n",
       "\n",
       "   target_class  \n",
       "0             0  \n",
       "1             0  \n",
       "2             1  \n",
       "3             1  \n",
       "4             0  "
      ]
     },
     "execution_count": 3,
     "metadata": {},
     "output_type": "execute_result"
    }
   ],
   "source": [
    "# CSVファイルの読み込み\n",
    "df = pd.read_csv(\"data/pulsar_stars_missing_values.csv\") # df = data frame の略\n",
    "df.head()"
   ]
  },
  {
   "cell_type": "markdown",
   "metadata": {},
   "source": [
    "## 4-2. 欠損値の取り扱い"
   ]
  },
  {
   "cell_type": "markdown",
   "metadata": {},
   "source": [
    "### 4-2-1. 欠損値の確認"
   ]
  },
  {
   "cell_type": "code",
   "execution_count": 4,
   "metadata": {},
   "outputs": [
    {
     "data": {
      "text/html": [
       "<div>\n",
       "<style scoped>\n",
       "    .dataframe tbody tr th:only-of-type {\n",
       "        vertical-align: middle;\n",
       "    }\n",
       "\n",
       "    .dataframe tbody tr th {\n",
       "        vertical-align: top;\n",
       "    }\n",
       "\n",
       "    .dataframe thead th {\n",
       "        text-align: right;\n",
       "    }\n",
       "</style>\n",
       "<table border=\"1\" class=\"dataframe\">\n",
       "  <thead>\n",
       "    <tr style=\"text-align: right;\">\n",
       "      <th></th>\n",
       "      <th>Mean of the integrated profile</th>\n",
       "      <th>Standard deviation of the integrated profile</th>\n",
       "      <th>Excess kurtosis of the integrated profile</th>\n",
       "      <th>Skewness of the integrated profile</th>\n",
       "      <th>Mean of the DM-SNR curve</th>\n",
       "      <th>Standard deviation of the DM-SNR curve</th>\n",
       "      <th>Excess kurtosis of the DM-SNR curve</th>\n",
       "      <th>Skewness of the DM-SNR curve</th>\n",
       "      <th>target_class</th>\n",
       "    </tr>\n",
       "  </thead>\n",
       "  <tbody>\n",
       "    <tr>\n",
       "      <th>False</th>\n",
       "      <td>17798</td>\n",
       "      <td>17798</td>\n",
       "      <td>17798</td>\n",
       "      <td>17798</td>\n",
       "      <td>17799</td>\n",
       "      <td>17798</td>\n",
       "      <td>17798</td>\n",
       "      <td>17798</td>\n",
       "      <td>17898</td>\n",
       "    </tr>\n",
       "    <tr>\n",
       "      <th>True</th>\n",
       "      <td>100</td>\n",
       "      <td>100</td>\n",
       "      <td>100</td>\n",
       "      <td>100</td>\n",
       "      <td>99</td>\n",
       "      <td>100</td>\n",
       "      <td>100</td>\n",
       "      <td>100</td>\n",
       "      <td>0</td>\n",
       "    </tr>\n",
       "  </tbody>\n",
       "</table>\n",
       "</div>"
      ],
      "text/plain": [
       "        Mean of the integrated profile  \\\n",
       "False                            17798   \n",
       "True                               100   \n",
       "\n",
       "        Standard deviation of the integrated profile  \\\n",
       "False                                          17798   \n",
       "True                                             100   \n",
       "\n",
       "        Excess kurtosis of the integrated profile  \\\n",
       "False                                       17798   \n",
       "True                                          100   \n",
       "\n",
       "        Skewness of the integrated profile   Mean of the DM-SNR curve  \\\n",
       "False                                17798                      17799   \n",
       "True                                   100                         99   \n",
       "\n",
       "        Standard deviation of the DM-SNR curve  \\\n",
       "False                                    17798   \n",
       "True                                       100   \n",
       "\n",
       "        Excess kurtosis of the DM-SNR curve   Skewness of the DM-SNR curve  \\\n",
       "False                                 17798                          17798   \n",
       "True                                    100                            100   \n",
       "\n",
       "       target_class  \n",
       "False         17898  \n",
       "True              0  "
      ]
     },
     "execution_count": 4,
     "metadata": {},
     "output_type": "execute_result"
    }
   ],
   "source": [
    "# 欠損値のカウント(1)\n",
    "df.isnull().apply(lambda col: col.value_counts(), axis=0).fillna(0).astype(np.int)"
   ]
  },
  {
   "cell_type": "code",
   "execution_count": 5,
   "metadata": {},
   "outputs": [
    {
     "data": {
      "text/plain": [
       " Mean of the integrated profile                  100\n",
       " Standard deviation of the integrated profile    100\n",
       " Excess kurtosis of the integrated profile       100\n",
       " Skewness of the integrated profile              100\n",
       " Mean of the DM-SNR curve                         99\n",
       " Standard deviation of the DM-SNR curve          100\n",
       " Excess kurtosis of the DM-SNR curve             100\n",
       " Skewness of the DM-SNR curve                    100\n",
       "target_class                                       0\n",
       "dtype: int64"
      ]
     },
     "execution_count": 5,
     "metadata": {},
     "output_type": "execute_result"
    }
   ],
   "source": [
    "# 欠損値のカウント(2)\n",
    "df.isnull().sum()"
   ]
  },
  {
   "cell_type": "code",
   "execution_count": 6,
   "metadata": {},
   "outputs": [
    {
     "name": "stdout",
     "output_type": "stream",
     "text": [
      "<class 'pandas.core.frame.DataFrame'>\n",
      "RangeIndex: 17898 entries, 0 to 17897\n",
      "Data columns (total 9 columns):\n",
      " #   Column                                         Non-Null Count  Dtype  \n",
      "---  ------                                         --------------  -----  \n",
      " 0    Mean of the integrated profile                17798 non-null  float64\n",
      " 1    Standard deviation of the integrated profile  17798 non-null  float64\n",
      " 2    Excess kurtosis of the integrated profile     17798 non-null  float64\n",
      " 3    Skewness of the integrated profile            17798 non-null  float64\n",
      " 4    Mean of the DM-SNR curve                      17799 non-null  float64\n",
      " 5    Standard deviation of the DM-SNR curve        17798 non-null  float64\n",
      " 6    Excess kurtosis of the DM-SNR curve           17798 non-null  float64\n",
      " 7    Skewness of the DM-SNR curve                  17798 non-null  float64\n",
      " 8   target_class                                   17898 non-null  int64  \n",
      "dtypes: float64(8), int64(1)\n",
      "memory usage: 1.2 MB\n"
     ]
    }
   ],
   "source": [
    "# 欠損値の確認 --> Range Index - 各変数の数\n",
    "df.info()"
   ]
  },
  {
   "cell_type": "code",
   "execution_count": 7,
   "metadata": {
    "scrolled": true
   },
   "outputs": [
    {
     "data": {
      "text/html": [
       "<div>\n",
       "<style scoped>\n",
       "    .dataframe tbody tr th:only-of-type {\n",
       "        vertical-align: middle;\n",
       "    }\n",
       "\n",
       "    .dataframe tbody tr th {\n",
       "        vertical-align: top;\n",
       "    }\n",
       "\n",
       "    .dataframe thead th {\n",
       "        text-align: right;\n",
       "    }\n",
       "</style>\n",
       "<table border=\"1\" class=\"dataframe\">\n",
       "  <thead>\n",
       "    <tr style=\"text-align: right;\">\n",
       "      <th></th>\n",
       "      <th>Mean of the integrated profile</th>\n",
       "      <th>Standard deviation of the integrated profile</th>\n",
       "      <th>Excess kurtosis of the integrated profile</th>\n",
       "      <th>Skewness of the integrated profile</th>\n",
       "      <th>Mean of the DM-SNR curve</th>\n",
       "      <th>Standard deviation of the DM-SNR curve</th>\n",
       "      <th>Excess kurtosis of the DM-SNR curve</th>\n",
       "      <th>Skewness of the DM-SNR curve</th>\n",
       "      <th>target_class</th>\n",
       "    </tr>\n",
       "  </thead>\n",
       "  <tbody>\n",
       "    <tr>\n",
       "      <th>False</th>\n",
       "      <td>0.994413</td>\n",
       "      <td>0.994413</td>\n",
       "      <td>0.994413</td>\n",
       "      <td>0.994413</td>\n",
       "      <td>0.994469</td>\n",
       "      <td>0.994413</td>\n",
       "      <td>0.994413</td>\n",
       "      <td>0.994413</td>\n",
       "      <td>1.0</td>\n",
       "    </tr>\n",
       "    <tr>\n",
       "      <th>True</th>\n",
       "      <td>0.005587</td>\n",
       "      <td>0.005587</td>\n",
       "      <td>0.005587</td>\n",
       "      <td>0.005587</td>\n",
       "      <td>0.005531</td>\n",
       "      <td>0.005587</td>\n",
       "      <td>0.005587</td>\n",
       "      <td>0.005587</td>\n",
       "      <td>0.0</td>\n",
       "    </tr>\n",
       "  </tbody>\n",
       "</table>\n",
       "</div>"
      ],
      "text/plain": [
       "        Mean of the integrated profile  \\\n",
       "False                         0.994413   \n",
       "True                          0.005587   \n",
       "\n",
       "        Standard deviation of the integrated profile  \\\n",
       "False                                       0.994413   \n",
       "True                                        0.005587   \n",
       "\n",
       "        Excess kurtosis of the integrated profile  \\\n",
       "False                                    0.994413   \n",
       "True                                     0.005587   \n",
       "\n",
       "        Skewness of the integrated profile   Mean of the DM-SNR curve  \\\n",
       "False                             0.994413                   0.994469   \n",
       "True                              0.005587                   0.005531   \n",
       "\n",
       "        Standard deviation of the DM-SNR curve  \\\n",
       "False                                 0.994413   \n",
       "True                                  0.005587   \n",
       "\n",
       "        Excess kurtosis of the DM-SNR curve   Skewness of the DM-SNR curve  \\\n",
       "False                              0.994413                       0.994413   \n",
       "True                               0.005587                       0.005587   \n",
       "\n",
       "       target_class  \n",
       "False           1.0  \n",
       "True            0.0  "
      ]
     },
     "execution_count": 7,
     "metadata": {},
     "output_type": "execute_result"
    }
   ],
   "source": [
    "# 欠損率\n",
    "df.isnull().apply(lambda col: col.value_counts(), axis=0).fillna(0).astype(np.float).apply(lambda col: col/col.sum(), axis=0)"
   ]
  },
  {
   "cell_type": "markdown",
   "metadata": {},
   "source": [
    "### 4-2-2. 欠損値の取り扱い方法"
   ]
  },
  {
   "cell_type": "code",
   "execution_count": 8,
   "metadata": {},
   "outputs": [
    {
     "data": {
      "text/plain": [
       "(17898, 9)"
      ]
     },
     "execution_count": 8,
     "metadata": {},
     "output_type": "execute_result"
    }
   ],
   "source": [
    "df.shape"
   ]
  },
  {
   "cell_type": "code",
   "execution_count": 12,
   "metadata": {},
   "outputs": [
    {
     "data": {
      "text/plain": [
       "(17099, 9)"
      ]
     },
     "execution_count": 12,
     "metadata": {},
     "output_type": "execute_result"
    }
   ],
   "source": [
    "# 欠損値を含む行を削除\n",
    "df2 = df.dropna()\n",
    "df2.shape"
   ]
  },
  {
   "cell_type": "code",
   "execution_count": 13,
   "metadata": {},
   "outputs": [
    {
     "data": {
      "text/plain": [
       " Mean of the integrated profile                  0\n",
       " Standard deviation of the integrated profile    0\n",
       " Excess kurtosis of the integrated profile       0\n",
       " Skewness of the integrated profile              0\n",
       " Mean of the DM-SNR curve                        0\n",
       " Standard deviation of the DM-SNR curve          0\n",
       " Excess kurtosis of the DM-SNR curve             0\n",
       " Skewness of the DM-SNR curve                    0\n",
       "target_class                                     0\n",
       "dtype: int64"
      ]
     },
     "execution_count": 13,
     "metadata": {},
     "output_type": "execute_result"
    }
   ],
   "source": [
    "df2.isnull().sum()"
   ]
  },
  {
   "cell_type": "code",
   "execution_count": 14,
   "metadata": {},
   "outputs": [
    {
     "data": {
      "text/plain": [
       "(17898, 9)"
      ]
     },
     "execution_count": 14,
     "metadata": {},
     "output_type": "execute_result"
    }
   ],
   "source": [
    "# 欠損値をその列の平均値で穴埋め\n",
    "df3 = df.fillna(df.mean())\n",
    "df3.shape"
   ]
  },
  {
   "cell_type": "code",
   "execution_count": 15,
   "metadata": {},
   "outputs": [
    {
     "data": {
      "text/plain": [
       " Mean of the integrated profile                  0\n",
       " Standard deviation of the integrated profile    0\n",
       " Excess kurtosis of the integrated profile       0\n",
       " Skewness of the integrated profile              0\n",
       " Mean of the DM-SNR curve                        0\n",
       " Standard deviation of the DM-SNR curve          0\n",
       " Excess kurtosis of the DM-SNR curve             0\n",
       " Skewness of the DM-SNR curve                    0\n",
       "target_class                                     0\n",
       "dtype: int64"
      ]
     },
     "execution_count": 15,
     "metadata": {},
     "output_type": "execute_result"
    }
   ],
   "source": [
    "df3.isnull().sum()"
   ]
  },
  {
   "cell_type": "code",
   "execution_count": 10,
   "metadata": {},
   "outputs": [
    {
     "data": {
      "text/plain": [
       "(17898, 9)"
      ]
     },
     "execution_count": 10,
     "metadata": {},
     "output_type": "execute_result"
    }
   ],
   "source": [
    "# 選択列の欠損値をその列の中央値で穴埋め\n",
    "df4 = df.fillna(df.median())\n",
    "df4.shape"
   ]
  },
  {
   "cell_type": "code",
   "execution_count": 16,
   "metadata": {},
   "outputs": [
    {
     "data": {
      "text/plain": [
       " Mean of the integrated profile                  0\n",
       " Standard deviation of the integrated profile    0\n",
       " Excess kurtosis of the integrated profile       0\n",
       " Skewness of the integrated profile              0\n",
       " Mean of the DM-SNR curve                        0\n",
       " Standard deviation of the DM-SNR curve          0\n",
       " Excess kurtosis of the DM-SNR curve             0\n",
       " Skewness of the DM-SNR curve                    0\n",
       "target_class                                     0\n",
       "dtype: int64"
      ]
     },
     "execution_count": 16,
     "metadata": {},
     "output_type": "execute_result"
    }
   ],
   "source": [
    "df4.isnull().sum()"
   ]
  },
  {
   "cell_type": "code",
   "execution_count": 16,
   "metadata": {},
   "outputs": [],
   "source": [
    "# 選択列の欠損値をその列の最頻値で穴埋め --> 説明変数が離散値の時には有効\n",
    "#df5 = df.fillna(df.mode())\n",
    "#df5.shape"
   ]
  },
  {
   "cell_type": "markdown",
   "metadata": {},
   "source": [
    "### 4-2-3. 欠損値補充方法の検証"
   ]
  },
  {
   "cell_type": "code",
   "execution_count": 17,
   "metadata": {},
   "outputs": [],
   "source": [
    "# 各欠損値の処理済みデータセットの機械学習評価、アルゴリズム-->ランダムフォレスト\n",
    "# データの分割（学習データと検証データ）\n",
    "\n",
    "# 検証するためのプロセスを関数化\n",
    "\n",
    "def Classify_evaluation(X, y):\n",
    "    from sklearn.model_selection import train_test_split\n",
    "    from sklearn.ensemble import RandomForestClassifier\n",
    "    X_train, X_val, y_train, y_val = train_test_split(X, y, train_size=0.8, random_state=1) # X_test, y_test と設定することも多い\n",
    "    clf = RandomForestClassifier(min_samples_leaf=3, random_state=0) # clf: classifier（分類器） の略\n",
    "    # モデルの学習\n",
    "    clf = clf.fit(X_train, y_train)\n",
    "    # 検証データで予測\n",
    "    y_pred = pd.DataFrame(clf.predict(X_val))\n",
    "    # 検証用データの予測精度(Open)\n",
    "    score = clf.score(X_val, y_val)    \n",
    "    return score"
   ]
  },
  {
   "cell_type": "code",
   "execution_count": 18,
   "metadata": {},
   "outputs": [
    {
     "name": "stderr",
     "output_type": "stream",
     "text": [
      "C:\\Users\\301518\\AppData\\Local\\Continuum\\anaconda3\\envs\\Seminar\\lib\\site-packages\\sklearn\\ensemble\\forest.py:245: FutureWarning: The default value of n_estimators will change from 10 in version 0.20 to 100 in 0.22.\n",
      "  \"10 in version 0.20 to 100 in 0.22.\", FutureWarning)\n",
      "C:\\Users\\301518\\AppData\\Local\\Continuum\\anaconda3\\envs\\Seminar\\lib\\site-packages\\ipykernel_launcher.py:12: DataConversionWarning: A column-vector y was passed when a 1d array was expected. Please change the shape of y to (n_samples,), for example using ravel().\n",
      "  if sys.path[0] == '':\n"
     ]
    },
    {
     "name": "stdout",
     "output_type": "stream",
     "text": [
      "0.9824561403508771\n"
     ]
    }
   ],
   "source": [
    "# 欠損値を含む行を削除\n",
    "# 説明変数\n",
    "X = pd.DataFrame(df2.drop(\"target_class\", axis=1))  # Pythonのコーディングでは、説明変数を大文字のXに設定することが多い\n",
    "# 目的変数\n",
    "y = pd.DataFrame(df2.target_class) # pd.DataFrame(df[\"target_class\"]) でも良い\n",
    "\n",
    "score_delete = Classify_evaluation(X, y)\n",
    "print(score_delete)"
   ]
  },
  {
   "cell_type": "code",
   "execution_count": 19,
   "metadata": {},
   "outputs": [
    {
     "name": "stderr",
     "output_type": "stream",
     "text": [
      "C:\\Users\\301518\\AppData\\Local\\Continuum\\anaconda3\\envs\\Seminar\\lib\\site-packages\\sklearn\\ensemble\\forest.py:245: FutureWarning: The default value of n_estimators will change from 10 in version 0.20 to 100 in 0.22.\n",
      "  \"10 in version 0.20 to 100 in 0.22.\", FutureWarning)\n",
      "C:\\Users\\301518\\AppData\\Local\\Continuum\\anaconda3\\envs\\Seminar\\lib\\site-packages\\ipykernel_launcher.py:12: DataConversionWarning: A column-vector y was passed when a 1d array was expected. Please change the shape of y to (n_samples,), for example using ravel().\n",
      "  if sys.path[0] == '':\n"
     ]
    },
    {
     "name": "stdout",
     "output_type": "stream",
     "text": [
      "0.9846368715083799\n"
     ]
    }
   ],
   "source": [
    "# 欠損値を平均値で穴埋め\n",
    "# 説明変数\n",
    "X = pd.DataFrame(df3.drop(\"target_class\", axis=1))  # Pythonのコーディングでは、説明変数を大文字のXに設定することが多い\n",
    "# 目的変数\n",
    "y = pd.DataFrame(df3.target_class) # pd.DataFrame(df[\"target_class\"]) でも良い\n",
    "\n",
    "score_average = Classify_evaluation(X, y)\n",
    "print(score_average)"
   ]
  },
  {
   "cell_type": "code",
   "execution_count": 20,
   "metadata": {},
   "outputs": [
    {
     "name": "stderr",
     "output_type": "stream",
     "text": [
      "C:\\Users\\301518\\AppData\\Local\\Continuum\\anaconda3\\envs\\Seminar\\lib\\site-packages\\sklearn\\ensemble\\forest.py:245: FutureWarning: The default value of n_estimators will change from 10 in version 0.20 to 100 in 0.22.\n",
      "  \"10 in version 0.20 to 100 in 0.22.\", FutureWarning)\n",
      "C:\\Users\\301518\\AppData\\Local\\Continuum\\anaconda3\\envs\\Seminar\\lib\\site-packages\\ipykernel_launcher.py:12: DataConversionWarning: A column-vector y was passed when a 1d array was expected. Please change the shape of y to (n_samples,), for example using ravel().\n",
      "  if sys.path[0] == '':\n"
     ]
    },
    {
     "name": "stdout",
     "output_type": "stream",
     "text": [
      "0.9837988826815642\n"
     ]
    }
   ],
   "source": [
    "# 欠損値を中央値で穴埋め\n",
    "from sklearn.model_selection import train_test_split\n",
    "# 説明変数\n",
    "X = pd.DataFrame(df4.drop(\"target_class\", axis=1))  # Pythonのコーディングでは、説明変数を大文字のXに設定することが多い\n",
    "# 目的変数\n",
    "y = pd.DataFrame(df4.target_class) # pd.DataFrame(df[\"target_class\"]) でも良い\n",
    "\n",
    "score_middle = Classify_evaluation(X, y)\n",
    "print(score_middle)"
   ]
  },
  {
   "cell_type": "code",
   "execution_count": 21,
   "metadata": {},
   "outputs": [
    {
     "name": "stdout",
     "output_type": "stream",
     "text": [
      "行削除:  0.9824561403508771\n",
      "平均値:  0.9846368715083799\n",
      "中央値:  0.9837988826815642\n"
     ]
    }
   ],
   "source": [
    "print(\"行削除: \",score_delete)\n",
    "print(\"平均値: \",score_average)\n",
    "print(\"中央値: \",score_middle)"
   ]
  },
  {
   "cell_type": "markdown",
   "metadata": {},
   "source": [
    "## 4-3. 説明変数の最適化"
   ]
  },
  {
   "cell_type": "markdown",
   "metadata": {},
   "source": [
    "### 4-3-1. 相関係数による説明変数の削減"
   ]
  },
  {
   "cell_type": "code",
   "execution_count": 22,
   "metadata": {
    "scrolled": true
   },
   "outputs": [
    {
     "data": {
      "text/html": [
       "<div>\n",
       "<style scoped>\n",
       "    .dataframe tbody tr th:only-of-type {\n",
       "        vertical-align: middle;\n",
       "    }\n",
       "\n",
       "    .dataframe tbody tr th {\n",
       "        vertical-align: top;\n",
       "    }\n",
       "\n",
       "    .dataframe thead th {\n",
       "        text-align: right;\n",
       "    }\n",
       "</style>\n",
       "<table border=\"1\" class=\"dataframe\">\n",
       "  <thead>\n",
       "    <tr style=\"text-align: right;\">\n",
       "      <th></th>\n",
       "      <th>Mean of the integrated profile</th>\n",
       "      <th>Standard deviation of the integrated profile</th>\n",
       "      <th>Excess kurtosis of the integrated profile</th>\n",
       "      <th>Skewness of the integrated profile</th>\n",
       "      <th>Mean of the DM-SNR curve</th>\n",
       "      <th>Standard deviation of the DM-SNR curve</th>\n",
       "      <th>Excess kurtosis of the DM-SNR curve</th>\n",
       "      <th>Skewness of the DM-SNR curve</th>\n",
       "      <th>target_class</th>\n",
       "    </tr>\n",
       "  </thead>\n",
       "  <tbody>\n",
       "    <tr>\n",
       "      <td>0</td>\n",
       "      <td>140.562500</td>\n",
       "      <td>55.683782</td>\n",
       "      <td>-0.234571</td>\n",
       "      <td>-0.699648</td>\n",
       "      <td>3.199833</td>\n",
       "      <td>19.110426</td>\n",
       "      <td>7.975532</td>\n",
       "      <td>74.242225</td>\n",
       "      <td>0</td>\n",
       "    </tr>\n",
       "    <tr>\n",
       "      <td>1</td>\n",
       "      <td>102.507812</td>\n",
       "      <td>58.882430</td>\n",
       "      <td>0.465318</td>\n",
       "      <td>-0.515088</td>\n",
       "      <td>1.677258</td>\n",
       "      <td>14.860146</td>\n",
       "      <td>10.576487</td>\n",
       "      <td>127.393580</td>\n",
       "      <td>0</td>\n",
       "    </tr>\n",
       "    <tr>\n",
       "      <td>2</td>\n",
       "      <td>103.015625</td>\n",
       "      <td>39.341649</td>\n",
       "      <td>0.323328</td>\n",
       "      <td>1.051164</td>\n",
       "      <td>3.121237</td>\n",
       "      <td>21.744669</td>\n",
       "      <td>7.735822</td>\n",
       "      <td>63.171909</td>\n",
       "      <td>0</td>\n",
       "    </tr>\n",
       "    <tr>\n",
       "      <td>3</td>\n",
       "      <td>136.750000</td>\n",
       "      <td>57.178449</td>\n",
       "      <td>-0.068415</td>\n",
       "      <td>-0.636238</td>\n",
       "      <td>3.642977</td>\n",
       "      <td>20.959280</td>\n",
       "      <td>6.896499</td>\n",
       "      <td>53.593661</td>\n",
       "      <td>0</td>\n",
       "    </tr>\n",
       "    <tr>\n",
       "      <td>4</td>\n",
       "      <td>88.726562</td>\n",
       "      <td>40.672225</td>\n",
       "      <td>0.600866</td>\n",
       "      <td>1.123492</td>\n",
       "      <td>1.178930</td>\n",
       "      <td>11.468720</td>\n",
       "      <td>14.269573</td>\n",
       "      <td>252.567306</td>\n",
       "      <td>0</td>\n",
       "    </tr>\n",
       "  </tbody>\n",
       "</table>\n",
       "</div>"
      ],
      "text/plain": [
       "    Mean of the integrated profile  \\\n",
       "0                       140.562500   \n",
       "1                       102.507812   \n",
       "2                       103.015625   \n",
       "3                       136.750000   \n",
       "4                        88.726562   \n",
       "\n",
       "    Standard deviation of the integrated profile  \\\n",
       "0                                      55.683782   \n",
       "1                                      58.882430   \n",
       "2                                      39.341649   \n",
       "3                                      57.178449   \n",
       "4                                      40.672225   \n",
       "\n",
       "    Excess kurtosis of the integrated profile  \\\n",
       "0                                   -0.234571   \n",
       "1                                    0.465318   \n",
       "2                                    0.323328   \n",
       "3                                   -0.068415   \n",
       "4                                    0.600866   \n",
       "\n",
       "    Skewness of the integrated profile   Mean of the DM-SNR curve  \\\n",
       "0                            -0.699648                   3.199833   \n",
       "1                            -0.515088                   1.677258   \n",
       "2                             1.051164                   3.121237   \n",
       "3                            -0.636238                   3.642977   \n",
       "4                             1.123492                   1.178930   \n",
       "\n",
       "    Standard deviation of the DM-SNR curve  \\\n",
       "0                                19.110426   \n",
       "1                                14.860146   \n",
       "2                                21.744669   \n",
       "3                                20.959280   \n",
       "4                                11.468720   \n",
       "\n",
       "    Excess kurtosis of the DM-SNR curve   Skewness of the DM-SNR curve  \\\n",
       "0                              7.975532                      74.242225   \n",
       "1                             10.576487                     127.393580   \n",
       "2                              7.735822                      63.171909   \n",
       "3                              6.896499                      53.593661   \n",
       "4                             14.269573                     252.567306   \n",
       "\n",
       "   target_class  \n",
       "0             0  \n",
       "1             0  \n",
       "2             0  \n",
       "3             0  \n",
       "4             0  "
      ]
     },
     "execution_count": 22,
     "metadata": {},
     "output_type": "execute_result"
    }
   ],
   "source": [
    "# フルデータCSVファイルの読み込み（欠損値なし）\n",
    "df = pd.read_csv(\"data/pulsar_stars.csv\") # df = data frame の略\n",
    "df.head()"
   ]
  },
  {
   "cell_type": "code",
   "execution_count": 23,
   "metadata": {},
   "outputs": [
    {
     "name": "stderr",
     "output_type": "stream",
     "text": [
      "C:\\Users\\301518\\AppData\\Local\\Continuum\\anaconda3\\envs\\Seminar\\lib\\site-packages\\sklearn\\ensemble\\forest.py:245: FutureWarning: The default value of n_estimators will change from 10 in version 0.20 to 100 in 0.22.\n",
      "  \"10 in version 0.20 to 100 in 0.22.\", FutureWarning)\n",
      "C:\\Users\\301518\\AppData\\Local\\Continuum\\anaconda3\\envs\\Seminar\\lib\\site-packages\\ipykernel_launcher.py:12: DataConversionWarning: A column-vector y was passed when a 1d array was expected. Please change the shape of y to (n_samples,), for example using ravel().\n",
      "  if sys.path[0] == '':\n"
     ]
    }
   ],
   "source": [
    "# まずそのままで機械学習\n",
    "# 説明変数\n",
    "X = pd.DataFrame(df.drop([\"target_class\"],axis=1))\n",
    "# 目的変数\n",
    "y = pd.DataFrame(df.target_class) # pd.DataFrame(df[\"target_class\"]) でも良い\n",
    "original_score = Classify_evaluation(X, y)"
   ]
  },
  {
   "cell_type": "code",
   "execution_count": 24,
   "metadata": {
    "scrolled": false
   },
   "outputs": [
    {
     "name": "stdout",
     "output_type": "stream",
     "text": [
      "                                                Mean of the integrated profile  \\\n",
      " Mean of the integrated profile                                       1.000000   \n",
      " Standard deviation of the integrated profile                         0.547137   \n",
      " Excess kurtosis of the integrated profile                           -0.873898   \n",
      " Skewness of the integrated profile                                  -0.738775   \n",
      " Mean of the DM-SNR curve                                            -0.298841   \n",
      " Standard deviation of the DM-SNR curve                              -0.307016   \n",
      " Excess kurtosis of the DM-SNR curve                                  0.234331   \n",
      " Skewness of the DM-SNR curve                                         0.144033   \n",
      "target_class                                                         -0.673181   \n",
      "\n",
      "                                                Standard deviation of the integrated profile  \\\n",
      " Mean of the integrated profile                                                     0.547137   \n",
      " Standard deviation of the integrated profile                                       1.000000   \n",
      " Excess kurtosis of the integrated profile                                         -0.521435   \n",
      " Skewness of the integrated profile                                                -0.539793   \n",
      " Mean of the DM-SNR curve                                                           0.006869   \n",
      " Standard deviation of the DM-SNR curve                                            -0.047632   \n",
      " Excess kurtosis of the DM-SNR curve                                                0.029429   \n",
      " Skewness of the DM-SNR curve                                                       0.027691   \n",
      "target_class                                                                       -0.363708   \n",
      "\n",
      "                                                Excess kurtosis of the integrated profile  \\\n",
      " Mean of the integrated profile                                                 -0.873898   \n",
      " Standard deviation of the integrated profile                                   -0.521435   \n",
      " Excess kurtosis of the integrated profile                                       1.000000   \n",
      " Skewness of the integrated profile                                              0.945729   \n",
      " Mean of the DM-SNR curve                                                        0.414368   \n",
      " Standard deviation of the DM-SNR curve                                          0.432880   \n",
      " Excess kurtosis of the DM-SNR curve                                            -0.341209   \n",
      " Skewness of the DM-SNR curve                                                   -0.214491   \n",
      "target_class                                                                     0.791591   \n",
      "\n",
      "                                                Skewness of the integrated profile  \\\n",
      " Mean of the integrated profile                                          -0.738775   \n",
      " Standard deviation of the integrated profile                            -0.539793   \n",
      " Excess kurtosis of the integrated profile                                0.945729   \n",
      " Skewness of the integrated profile                                       1.000000   \n",
      " Mean of the DM-SNR curve                                                 0.412056   \n",
      " Standard deviation of the DM-SNR curve                                   0.415140   \n",
      " Excess kurtosis of the DM-SNR curve                                     -0.328843   \n",
      " Skewness of the DM-SNR curve                                            -0.204782   \n",
      "target_class                                                              0.709528   \n",
      "\n",
      "                                                Mean of the DM-SNR curve  \\\n",
      " Mean of the integrated profile                                -0.298841   \n",
      " Standard deviation of the integrated profile                   0.006869   \n",
      " Excess kurtosis of the integrated profile                      0.414368   \n",
      " Skewness of the integrated profile                             0.412056   \n",
      " Mean of the DM-SNR curve                                       1.000000   \n",
      " Standard deviation of the DM-SNR curve                         0.796555   \n",
      " Excess kurtosis of the DM-SNR curve                           -0.615971   \n",
      " Skewness of the DM-SNR curve                                  -0.354269   \n",
      "target_class                                                    0.400876   \n",
      "\n",
      "                                                Standard deviation of the DM-SNR curve  \\\n",
      " Mean of the integrated profile                                              -0.307016   \n",
      " Standard deviation of the integrated profile                                -0.047632   \n",
      " Excess kurtosis of the integrated profile                                    0.432880   \n",
      " Skewness of the integrated profile                                           0.415140   \n",
      " Mean of the DM-SNR curve                                                     0.796555   \n",
      " Standard deviation of the DM-SNR curve                                       1.000000   \n",
      " Excess kurtosis of the DM-SNR curve                                         -0.809786   \n",
      " Skewness of the DM-SNR curve                                                -0.575800   \n",
      "target_class                                                                  0.491535   \n",
      "\n",
      "                                                Excess kurtosis of the DM-SNR curve  \\\n",
      " Mean of the integrated profile                                            0.234331   \n",
      " Standard deviation of the integrated profile                              0.029429   \n",
      " Excess kurtosis of the integrated profile                                -0.341209   \n",
      " Skewness of the integrated profile                                       -0.328843   \n",
      " Mean of the DM-SNR curve                                                 -0.615971   \n",
      " Standard deviation of the DM-SNR curve                                   -0.809786   \n",
      " Excess kurtosis of the DM-SNR curve                                       1.000000   \n",
      " Skewness of the DM-SNR curve                                              0.923743   \n",
      "target_class                                                              -0.390816   \n",
      "\n",
      "                                                Skewness of the DM-SNR curve  \\\n",
      " Mean of the integrated profile                                     0.144033   \n",
      " Standard deviation of the integrated profile                       0.027691   \n",
      " Excess kurtosis of the integrated profile                         -0.214491   \n",
      " Skewness of the integrated profile                                -0.204782   \n",
      " Mean of the DM-SNR curve                                          -0.354269   \n",
      " Standard deviation of the DM-SNR curve                            -0.575800   \n",
      " Excess kurtosis of the DM-SNR curve                                0.923743   \n",
      " Skewness of the DM-SNR curve                                       1.000000   \n",
      "target_class                                                       -0.259117   \n",
      "\n",
      "                                               target_class  \n",
      " Mean of the integrated profile                   -0.673181  \n",
      " Standard deviation of the integrated profile     -0.363708  \n",
      " Excess kurtosis of the integrated profile         0.791591  \n",
      " Skewness of the integrated profile                0.709528  \n",
      " Mean of the DM-SNR curve                          0.400876  \n",
      " Standard deviation of the DM-SNR curve            0.491535  \n",
      " Excess kurtosis of the DM-SNR curve              -0.390816  \n",
      " Skewness of the DM-SNR curve                     -0.259117  \n",
      "target_class                                       1.000000  \n"
     ]
    }
   ],
   "source": [
    "df_nan_corr = df.corr()\n",
    "print(df_nan_corr)"
   ]
  },
  {
   "cell_type": "code",
   "execution_count": 25,
   "metadata": {},
   "outputs": [],
   "source": [
    "# 相関係数が高い(0.9以上) 説明変数を DF から削除したX,yを作る\n",
    "# 説明変数\n",
    "X = pd.DataFrame(df.drop([\"target_class\",\" Excess kurtosis of the DM-SNR curve\",\" Skewness of the integrated profile\"],axis=1))\n",
    "# 目的変数\n",
    "y = pd.DataFrame(df.target_class) # pd.DataFrame(df[\"target_class\"]) でも良い"
   ]
  },
  {
   "cell_type": "code",
   "execution_count": 26,
   "metadata": {},
   "outputs": [
    {
     "data": {
      "text/html": [
       "<div>\n",
       "<style scoped>\n",
       "    .dataframe tbody tr th:only-of-type {\n",
       "        vertical-align: middle;\n",
       "    }\n",
       "\n",
       "    .dataframe tbody tr th {\n",
       "        vertical-align: top;\n",
       "    }\n",
       "\n",
       "    .dataframe thead th {\n",
       "        text-align: right;\n",
       "    }\n",
       "</style>\n",
       "<table border=\"1\" class=\"dataframe\">\n",
       "  <thead>\n",
       "    <tr style=\"text-align: right;\">\n",
       "      <th></th>\n",
       "      <th>Mean of the integrated profile</th>\n",
       "      <th>Standard deviation of the integrated profile</th>\n",
       "      <th>Excess kurtosis of the integrated profile</th>\n",
       "      <th>Mean of the DM-SNR curve</th>\n",
       "      <th>Standard deviation of the DM-SNR curve</th>\n",
       "      <th>Skewness of the DM-SNR curve</th>\n",
       "    </tr>\n",
       "  </thead>\n",
       "  <tbody>\n",
       "    <tr>\n",
       "      <td>0</td>\n",
       "      <td>140.562500</td>\n",
       "      <td>55.683782</td>\n",
       "      <td>-0.234571</td>\n",
       "      <td>3.199833</td>\n",
       "      <td>19.110426</td>\n",
       "      <td>74.242225</td>\n",
       "    </tr>\n",
       "    <tr>\n",
       "      <td>1</td>\n",
       "      <td>102.507812</td>\n",
       "      <td>58.882430</td>\n",
       "      <td>0.465318</td>\n",
       "      <td>1.677258</td>\n",
       "      <td>14.860146</td>\n",
       "      <td>127.393580</td>\n",
       "    </tr>\n",
       "    <tr>\n",
       "      <td>2</td>\n",
       "      <td>103.015625</td>\n",
       "      <td>39.341649</td>\n",
       "      <td>0.323328</td>\n",
       "      <td>3.121237</td>\n",
       "      <td>21.744669</td>\n",
       "      <td>63.171909</td>\n",
       "    </tr>\n",
       "    <tr>\n",
       "      <td>3</td>\n",
       "      <td>136.750000</td>\n",
       "      <td>57.178449</td>\n",
       "      <td>-0.068415</td>\n",
       "      <td>3.642977</td>\n",
       "      <td>20.959280</td>\n",
       "      <td>53.593661</td>\n",
       "    </tr>\n",
       "    <tr>\n",
       "      <td>4</td>\n",
       "      <td>88.726562</td>\n",
       "      <td>40.672225</td>\n",
       "      <td>0.600866</td>\n",
       "      <td>1.178930</td>\n",
       "      <td>11.468720</td>\n",
       "      <td>252.567306</td>\n",
       "    </tr>\n",
       "  </tbody>\n",
       "</table>\n",
       "</div>"
      ],
      "text/plain": [
       "    Mean of the integrated profile  \\\n",
       "0                       140.562500   \n",
       "1                       102.507812   \n",
       "2                       103.015625   \n",
       "3                       136.750000   \n",
       "4                        88.726562   \n",
       "\n",
       "    Standard deviation of the integrated profile  \\\n",
       "0                                      55.683782   \n",
       "1                                      58.882430   \n",
       "2                                      39.341649   \n",
       "3                                      57.178449   \n",
       "4                                      40.672225   \n",
       "\n",
       "    Excess kurtosis of the integrated profile   Mean of the DM-SNR curve  \\\n",
       "0                                   -0.234571                   3.199833   \n",
       "1                                    0.465318                   1.677258   \n",
       "2                                    0.323328                   3.121237   \n",
       "3                                   -0.068415                   3.642977   \n",
       "4                                    0.600866                   1.178930   \n",
       "\n",
       "    Standard deviation of the DM-SNR curve   Skewness of the DM-SNR curve  \n",
       "0                                19.110426                      74.242225  \n",
       "1                                14.860146                     127.393580  \n",
       "2                                21.744669                      63.171909  \n",
       "3                                20.959280                      53.593661  \n",
       "4                                11.468720                     252.567306  "
      ]
     },
     "execution_count": 26,
     "metadata": {},
     "output_type": "execute_result"
    }
   ],
   "source": [
    "X.head()"
   ]
  },
  {
   "cell_type": "code",
   "execution_count": 27,
   "metadata": {},
   "outputs": [
    {
     "name": "stderr",
     "output_type": "stream",
     "text": [
      "C:\\Users\\301518\\AppData\\Local\\Continuum\\anaconda3\\envs\\Seminar\\lib\\site-packages\\sklearn\\ensemble\\forest.py:245: FutureWarning: The default value of n_estimators will change from 10 in version 0.20 to 100 in 0.22.\n",
      "  \"10 in version 0.20 to 100 in 0.22.\", FutureWarning)\n",
      "C:\\Users\\301518\\AppData\\Local\\Continuum\\anaconda3\\envs\\Seminar\\lib\\site-packages\\ipykernel_launcher.py:12: DataConversionWarning: A column-vector y was passed when a 1d array was expected. Please change the shape of y to (n_samples,), for example using ravel().\n",
      "  if sys.path[0] == '':\n"
     ]
    },
    {
     "name": "stdout",
     "output_type": "stream",
     "text": [
      "With origina 8 variables:         0.9801675977653631\n",
      "With 6 variables by correlation:  0.9784916201117319\n"
     ]
    }
   ],
   "source": [
    "correlation_score = Classify_evaluation(X, y)\n",
    "\n",
    "# 検証用データの予測精度(Opern)\n",
    "print(\"With origina 8 variables:        \", original_score)\n",
    "print(\"With 6 variables by correlation: \", correlation_score) "
   ]
  },
  {
   "cell_type": "markdown",
   "metadata": {},
   "source": [
    "### 4-3-2. 重要度による説明変数の最適化"
   ]
  },
  {
   "cell_type": "code",
   "execution_count": 28,
   "metadata": {},
   "outputs": [],
   "source": [
    "# 説明変数\n",
    "X = pd.DataFrame(df.drop(\"target_class\", axis=1))  # Pythonのコーディングでは、説明変数を大文字のXに設定することが多い\n",
    "# 目的変数\n",
    "y = pd.DataFrame(df.target_class) # pd.DataFrame(df[\"target_class\"]) でも良い"
   ]
  },
  {
   "cell_type": "code",
   "execution_count": 29,
   "metadata": {},
   "outputs": [
    {
     "name": "stderr",
     "output_type": "stream",
     "text": [
      "C:\\Users\\301518\\AppData\\Local\\Continuum\\anaconda3\\envs\\Seminar\\lib\\site-packages\\sklearn\\ensemble\\forest.py:245: FutureWarning: The default value of n_estimators will change from 10 in version 0.20 to 100 in 0.22.\n",
      "  \"10 in version 0.20 to 100 in 0.22.\", FutureWarning)\n",
      "C:\\Users\\301518\\AppData\\Local\\Continuum\\anaconda3\\envs\\Seminar\\lib\\site-packages\\ipykernel_launcher.py:7: DataConversionWarning: A column-vector y was passed when a 1d array was expected. Please change the shape of y to (n_samples,), for example using ravel().\n",
      "  import sys\n"
     ]
    }
   ],
   "source": [
    "from sklearn.model_selection import train_test_split\n",
    "from sklearn.ensemble import RandomForestClassifier\n",
    "\n",
    "# Random Forest モデルの作成\n",
    "clf = RandomForestClassifier(min_samples_leaf=3, random_state=0) # clf: classifier（分類器） の略\n",
    "# モデルの学習\n",
    "clf = clf.fit(X, y)"
   ]
  },
  {
   "cell_type": "code",
   "execution_count": 30,
   "metadata": {},
   "outputs": [
    {
     "name": "stderr",
     "output_type": "stream",
     "text": [
      "findfont: Font family ['IPAexGothic'] not found. Falling back to DejaVu Sans.\n"
     ]
    },
    {
     "data": {
      "image/png": "[encoded data removed]",
      "text/plain": [
       "<Figure size 432x432 with 1 Axes>"
      ]
     },
     "metadata": {
      "needs_background": "light"
     },
     "output_type": "display_data"
    }
   ],
   "source": [
    "# 説明変数の重要度のグラフ化\n",
    "import matplotlib.pyplot as plt\n",
    "%matplotlib inline\n",
    "\n",
    "features = X.columns\n",
    "importances = clf.feature_importances_ # 説明変数の重要度を抽出\n",
    "indices = np.argsort(importances)\n",
    "\n",
    "plt.figure(figsize=(6,6))\n",
    "plt.barh(range(len(indices)), importances[indices], color='b', align='center')\n",
    "plt.yticks(range(len(indices)), features[indices])\n",
    "plt.show()"
   ]
  },
  {
   "cell_type": "code",
   "execution_count": 31,
   "metadata": {},
   "outputs": [],
   "source": [
    "# 重要度上位４つの説明変数で再学習\n",
    "# 説明変数\n",
    "X = pd.DataFrame(df.drop([\"target_class\",\n",
    "                          \" Standard deviation of the integrated profile\",\n",
    "                          \" Skewness of the integrated profile\",\n",
    "                          \" Mean of the DM-SNR curve\",\n",
    "                          \" Excess kurtosis of the DM-SNR curve\"],axis=1))\n",
    "# 目的変数\n",
    "y = pd.DataFrame(df.target_class) # pd.DataFrame(df[\"target_class\"]) でも良い"
   ]
  },
  {
   "cell_type": "code",
   "execution_count": 32,
   "metadata": {},
   "outputs": [
    {
     "data": {
      "text/html": [
       "<div>\n",
       "<style scoped>\n",
       "    .dataframe tbody tr th:only-of-type {\n",
       "        vertical-align: middle;\n",
       "    }\n",
       "\n",
       "    .dataframe tbody tr th {\n",
       "        vertical-align: top;\n",
       "    }\n",
       "\n",
       "    .dataframe thead th {\n",
       "        text-align: right;\n",
       "    }\n",
       "</style>\n",
       "<table border=\"1\" class=\"dataframe\">\n",
       "  <thead>\n",
       "    <tr style=\"text-align: right;\">\n",
       "      <th></th>\n",
       "      <th>Mean of the integrated profile</th>\n",
       "      <th>Excess kurtosis of the integrated profile</th>\n",
       "      <th>Standard deviation of the DM-SNR curve</th>\n",
       "      <th>Skewness of the DM-SNR curve</th>\n",
       "    </tr>\n",
       "  </thead>\n",
       "  <tbody>\n",
       "    <tr>\n",
       "      <td>0</td>\n",
       "      <td>140.562500</td>\n",
       "      <td>-0.234571</td>\n",
       "      <td>19.110426</td>\n",
       "      <td>74.242225</td>\n",
       "    </tr>\n",
       "    <tr>\n",
       "      <td>1</td>\n",
       "      <td>102.507812</td>\n",
       "      <td>0.465318</td>\n",
       "      <td>14.860146</td>\n",
       "      <td>127.393580</td>\n",
       "    </tr>\n",
       "    <tr>\n",
       "      <td>2</td>\n",
       "      <td>103.015625</td>\n",
       "      <td>0.323328</td>\n",
       "      <td>21.744669</td>\n",
       "      <td>63.171909</td>\n",
       "    </tr>\n",
       "    <tr>\n",
       "      <td>3</td>\n",
       "      <td>136.750000</td>\n",
       "      <td>-0.068415</td>\n",
       "      <td>20.959280</td>\n",
       "      <td>53.593661</td>\n",
       "    </tr>\n",
       "    <tr>\n",
       "      <td>4</td>\n",
       "      <td>88.726562</td>\n",
       "      <td>0.600866</td>\n",
       "      <td>11.468720</td>\n",
       "      <td>252.567306</td>\n",
       "    </tr>\n",
       "  </tbody>\n",
       "</table>\n",
       "</div>"
      ],
      "text/plain": [
       "    Mean of the integrated profile  \\\n",
       "0                       140.562500   \n",
       "1                       102.507812   \n",
       "2                       103.015625   \n",
       "3                       136.750000   \n",
       "4                        88.726562   \n",
       "\n",
       "    Excess kurtosis of the integrated profile  \\\n",
       "0                                   -0.234571   \n",
       "1                                    0.465318   \n",
       "2                                    0.323328   \n",
       "3                                   -0.068415   \n",
       "4                                    0.600866   \n",
       "\n",
       "    Standard deviation of the DM-SNR curve   Skewness of the DM-SNR curve  \n",
       "0                                19.110426                      74.242225  \n",
       "1                                14.860146                     127.393580  \n",
       "2                                21.744669                      63.171909  \n",
       "3                                20.959280                      53.593661  \n",
       "4                                11.468720                     252.567306  "
      ]
     },
     "execution_count": 32,
     "metadata": {},
     "output_type": "execute_result"
    }
   ],
   "source": [
    "X.head()"
   ]
  },
  {
   "cell_type": "code",
   "execution_count": 33,
   "metadata": {},
   "outputs": [
    {
     "name": "stderr",
     "output_type": "stream",
     "text": [
      "C:\\Users\\301518\\AppData\\Local\\Continuum\\anaconda3\\envs\\Seminar\\lib\\site-packages\\sklearn\\ensemble\\forest.py:245: FutureWarning: The default value of n_estimators will change from 10 in version 0.20 to 100 in 0.22.\n",
      "  \"10 in version 0.20 to 100 in 0.22.\", FutureWarning)\n",
      "C:\\Users\\301518\\AppData\\Local\\Continuum\\anaconda3\\envs\\Seminar\\lib\\site-packages\\ipykernel_launcher.py:12: DataConversionWarning: A column-vector y was passed when a 1d array was expected. Please change the shape of y to (n_samples,), for example using ravel().\n",
      "  if sys.path[0] == '':\n"
     ]
    },
    {
     "name": "stdout",
     "output_type": "stream",
     "text": [
      "With origina 8 variables:         0.9801675977653631\n",
      "With 6 variables by correlation:  0.9784916201117319\n",
      "With 4 variables by importances:  0.9787709497206704\n"
     ]
    }
   ],
   "source": [
    "# 評価\n",
    "importance_score = Classify_evaluation(X, y)\n",
    "print(\"With origina 8 variables:        \", original_score)\n",
    "print(\"With 6 variables by correlation: \", correlation_score) \n",
    "print(\"With 4 variables by importances: \", importance_score) "
   ]
  },
  {
   "cell_type": "markdown",
   "metadata": {},
   "source": [
    "## 4-4. ハイパーパラメータの最適化"
   ]
  },
  {
   "cell_type": "markdown",
   "metadata": {},
   "source": [
    "### 4-4-1. 自分でプログラミング"
   ]
  },
  {
   "cell_type": "code",
   "execution_count": 34,
   "metadata": {
    "scrolled": true
   },
   "outputs": [
    {
     "name": "stdout",
     "output_type": "stream",
     "text": [
      "RandomForestClassifier(bootstrap=True, class_weight=None, criterion='gini',\n",
      "                       max_depth=None, max_features='auto', max_leaf_nodes=None,\n",
      "                       min_impurity_decrease=0.0, min_impurity_split=None,\n",
      "                       min_samples_leaf=3, min_samples_split=2,\n",
      "                       min_weight_fraction_leaf=0.0, n_estimators=10,\n",
      "                       n_jobs=None, oob_score=False, random_state=0, verbose=0,\n",
      "                       warm_start=False)\n"
     ]
    }
   ],
   "source": [
    "# ランダムフォレストのハイパーパラメーター設定値\n",
    "print(clf)"
   ]
  },
  {
   "cell_type": "code",
   "execution_count": 35,
   "metadata": {},
   "outputs": [],
   "source": [
    "# 説明変数\n",
    "X = pd.DataFrame(df.drop([\"target_class\"],axis=1))\n",
    "# 目的変数\n",
    "y = pd.DataFrame(df.target_class) # pd.DataFrame(df[\"target_class\"]) でも良い\n",
    "X_train, X_val, y_train, y_val = train_test_split(X, y, train_size=0.8, random_state=1) # X_test, y_test と設定することも多い"
   ]
  },
  {
   "cell_type": "code",
   "execution_count": 36,
   "metadata": {
    "scrolled": false
   },
   "outputs": [
    {
     "name": "stderr",
     "output_type": "stream",
     "text": [
      "C:\\Users\\301518\\AppData\\Local\\Continuum\\anaconda3\\envs\\Seminar\\lib\\site-packages\\sklearn\\ensemble\\forest.py:245: FutureWarning: The default value of n_estimators will change from 10 in version 0.20 to 100 in 0.22.\n",
      "  \"10 in version 0.20 to 100 in 0.22.\", FutureWarning)\n",
      "C:\\Users\\301518\\AppData\\Local\\Continuum\\anaconda3\\envs\\Seminar\\lib\\site-packages\\ipykernel_launcher.py:11: DataConversionWarning: A column-vector y was passed when a 1d array was expected. Please change the shape of y to (n_samples,), for example using ravel().\n",
      "  # This is added back by InteractiveShellApp.init_path()\n"
     ]
    },
    {
     "name": "stdout",
     "output_type": "stream",
     "text": [
      "Open Accuracy (i = 1 ): 0.9787709497206704\n",
      "F1-score (i = 1 ): 0.8778135048231511\n"
     ]
    },
    {
     "name": "stderr",
     "output_type": "stream",
     "text": [
      "C:\\Users\\301518\\AppData\\Local\\Continuum\\anaconda3\\envs\\Seminar\\lib\\site-packages\\sklearn\\ensemble\\forest.py:245: FutureWarning: The default value of n_estimators will change from 10 in version 0.20 to 100 in 0.22.\n",
      "  \"10 in version 0.20 to 100 in 0.22.\", FutureWarning)\n",
      "C:\\Users\\301518\\AppData\\Local\\Continuum\\anaconda3\\envs\\Seminar\\lib\\site-packages\\ipykernel_launcher.py:11: DataConversionWarning: A column-vector y was passed when a 1d array was expected. Please change the shape of y to (n_samples,), for example using ravel().\n",
      "  # This is added back by InteractiveShellApp.init_path()\n"
     ]
    },
    {
     "name": "stdout",
     "output_type": "stream",
     "text": [
      "Open Accuracy (i = 2 ): 0.979050279329609\n",
      "F1-score (i = 2 ): 0.88\n"
     ]
    },
    {
     "name": "stderr",
     "output_type": "stream",
     "text": [
      "C:\\Users\\301518\\AppData\\Local\\Continuum\\anaconda3\\envs\\Seminar\\lib\\site-packages\\sklearn\\ensemble\\forest.py:245: FutureWarning: The default value of n_estimators will change from 10 in version 0.20 to 100 in 0.22.\n",
      "  \"10 in version 0.20 to 100 in 0.22.\", FutureWarning)\n",
      "C:\\Users\\301518\\AppData\\Local\\Continuum\\anaconda3\\envs\\Seminar\\lib\\site-packages\\ipykernel_launcher.py:11: DataConversionWarning: A column-vector y was passed when a 1d array was expected. Please change the shape of y to (n_samples,), for example using ravel().\n",
      "  # This is added back by InteractiveShellApp.init_path()\n"
     ]
    },
    {
     "name": "stdout",
     "output_type": "stream",
     "text": [
      "Open Accuracy (i = 3 ): 0.9801675977653631\n",
      "F1-score (i = 3 ): 0.8867623604465711\n"
     ]
    },
    {
     "name": "stderr",
     "output_type": "stream",
     "text": [
      "C:\\Users\\301518\\AppData\\Local\\Continuum\\anaconda3\\envs\\Seminar\\lib\\site-packages\\sklearn\\ensemble\\forest.py:245: FutureWarning: The default value of n_estimators will change from 10 in version 0.20 to 100 in 0.22.\n",
      "  \"10 in version 0.20 to 100 in 0.22.\", FutureWarning)\n",
      "C:\\Users\\301518\\AppData\\Local\\Continuum\\anaconda3\\envs\\Seminar\\lib\\site-packages\\ipykernel_launcher.py:11: DataConversionWarning: A column-vector y was passed when a 1d array was expected. Please change the shape of y to (n_samples,), for example using ravel().\n",
      "  # This is added back by InteractiveShellApp.init_path()\n"
     ]
    },
    {
     "name": "stdout",
     "output_type": "stream",
     "text": [
      "Open Accuracy (i = 4 ): 0.9768156424581006\n",
      "F1-score (i = 4 ): 0.8659127625201939\n"
     ]
    },
    {
     "name": "stderr",
     "output_type": "stream",
     "text": [
      "C:\\Users\\301518\\AppData\\Local\\Continuum\\anaconda3\\envs\\Seminar\\lib\\site-packages\\sklearn\\ensemble\\forest.py:245: FutureWarning: The default value of n_estimators will change from 10 in version 0.20 to 100 in 0.22.\n",
      "  \"10 in version 0.20 to 100 in 0.22.\", FutureWarning)\n",
      "C:\\Users\\301518\\AppData\\Local\\Continuum\\anaconda3\\envs\\Seminar\\lib\\site-packages\\ipykernel_launcher.py:11: DataConversionWarning: A column-vector y was passed when a 1d array was expected. Please change the shape of y to (n_samples,), for example using ravel().\n",
      "  # This is added back by InteractiveShellApp.init_path()\n"
     ]
    },
    {
     "name": "stdout",
     "output_type": "stream",
     "text": [
      "Open Accuracy (i = 5 ): 0.9793296089385475\n",
      "F1-score (i = 5 ): 0.8798701298701298\n"
     ]
    },
    {
     "name": "stderr",
     "output_type": "stream",
     "text": [
      "C:\\Users\\301518\\AppData\\Local\\Continuum\\anaconda3\\envs\\Seminar\\lib\\site-packages\\sklearn\\ensemble\\forest.py:245: FutureWarning: The default value of n_estimators will change from 10 in version 0.20 to 100 in 0.22.\n",
      "  \"10 in version 0.20 to 100 in 0.22.\", FutureWarning)\n",
      "C:\\Users\\301518\\AppData\\Local\\Continuum\\anaconda3\\envs\\Seminar\\lib\\site-packages\\ipykernel_launcher.py:11: DataConversionWarning: A column-vector y was passed when a 1d array was expected. Please change the shape of y to (n_samples,), for example using ravel().\n",
      "  # This is added back by InteractiveShellApp.init_path()\n"
     ]
    },
    {
     "name": "stdout",
     "output_type": "stream",
     "text": [
      "Open Accuracy (i = 6 ): 0.9779329608938547\n",
      "F1-score (i = 6 ): 0.8723747980613894\n"
     ]
    },
    {
     "name": "stderr",
     "output_type": "stream",
     "text": [
      "C:\\Users\\301518\\AppData\\Local\\Continuum\\anaconda3\\envs\\Seminar\\lib\\site-packages\\sklearn\\ensemble\\forest.py:245: FutureWarning: The default value of n_estimators will change from 10 in version 0.20 to 100 in 0.22.\n",
      "  \"10 in version 0.20 to 100 in 0.22.\", FutureWarning)\n",
      "C:\\Users\\301518\\AppData\\Local\\Continuum\\anaconda3\\envs\\Seminar\\lib\\site-packages\\ipykernel_launcher.py:11: DataConversionWarning: A column-vector y was passed when a 1d array was expected. Please change the shape of y to (n_samples,), for example using ravel().\n",
      "  # This is added back by InteractiveShellApp.init_path()\n"
     ]
    },
    {
     "name": "stdout",
     "output_type": "stream",
     "text": [
      "Open Accuracy (i = 7 ): 0.9782122905027933\n",
      "F1-score (i = 7 ): 0.8737864077669902\n"
     ]
    },
    {
     "name": "stderr",
     "output_type": "stream",
     "text": [
      "C:\\Users\\301518\\AppData\\Local\\Continuum\\anaconda3\\envs\\Seminar\\lib\\site-packages\\sklearn\\ensemble\\forest.py:245: FutureWarning: The default value of n_estimators will change from 10 in version 0.20 to 100 in 0.22.\n",
      "  \"10 in version 0.20 to 100 in 0.22.\", FutureWarning)\n",
      "C:\\Users\\301518\\AppData\\Local\\Continuum\\anaconda3\\envs\\Seminar\\lib\\site-packages\\ipykernel_launcher.py:11: DataConversionWarning: A column-vector y was passed when a 1d array was expected. Please change the shape of y to (n_samples,), for example using ravel().\n",
      "  # This is added back by InteractiveShellApp.init_path()\n"
     ]
    },
    {
     "name": "stdout",
     "output_type": "stream",
     "text": [
      "Open Accuracy (i = 8 ): 0.9782122905027933\n",
      "F1-score (i = 8 ): 0.8750000000000001\n"
     ]
    },
    {
     "name": "stderr",
     "output_type": "stream",
     "text": [
      "C:\\Users\\301518\\AppData\\Local\\Continuum\\anaconda3\\envs\\Seminar\\lib\\site-packages\\sklearn\\ensemble\\forest.py:245: FutureWarning: The default value of n_estimators will change from 10 in version 0.20 to 100 in 0.22.\n",
      "  \"10 in version 0.20 to 100 in 0.22.\", FutureWarning)\n",
      "C:\\Users\\301518\\AppData\\Local\\Continuum\\anaconda3\\envs\\Seminar\\lib\\site-packages\\ipykernel_launcher.py:11: DataConversionWarning: A column-vector y was passed when a 1d array was expected. Please change the shape of y to (n_samples,), for example using ravel().\n",
      "  # This is added back by InteractiveShellApp.init_path()\n"
     ]
    },
    {
     "name": "stdout",
     "output_type": "stream",
     "text": [
      "Open Accuracy (i = 9 ): 0.9779329608938547\n",
      "F1-score (i = 9 ): 0.8719611021069692\n"
     ]
    },
    {
     "name": "stderr",
     "output_type": "stream",
     "text": [
      "C:\\Users\\301518\\AppData\\Local\\Continuum\\anaconda3\\envs\\Seminar\\lib\\site-packages\\sklearn\\ensemble\\forest.py:245: FutureWarning: The default value of n_estimators will change from 10 in version 0.20 to 100 in 0.22.\n",
      "  \"10 in version 0.20 to 100 in 0.22.\", FutureWarning)\n",
      "C:\\Users\\301518\\AppData\\Local\\Continuum\\anaconda3\\envs\\Seminar\\lib\\site-packages\\ipykernel_launcher.py:11: DataConversionWarning: A column-vector y was passed when a 1d array was expected. Please change the shape of y to (n_samples,), for example using ravel().\n",
      "  # This is added back by InteractiveShellApp.init_path()\n"
     ]
    },
    {
     "name": "stdout",
     "output_type": "stream",
     "text": [
      "Open Accuracy (i = 10 ): 0.9793296089385475\n",
      "F1-score (i = 10 ): 0.8817891373801916\n"
     ]
    }
   ],
   "source": [
    "# ランダムフォレストのハイパーパラメーター設定値変更\n",
    "from sklearn.metrics import f1_score\n",
    "i = 1\n",
    "Accuracy_list = list(range(0)) # リストを作成（初期状態：要素なし）\n",
    "F1_list = list(range(0)) # リストを作成（初期状態：要素なし）\n",
    "\n",
    "while i < 11:\n",
    "    from sklearn.ensemble import RandomForestClassifier\n",
    "    clf = RandomForestClassifier(min_samples_leaf=i, random_state=0) # clf: classifier（分類器） の略\n",
    "    # モデルの学習\n",
    "    clf = clf.fit(X_train, y_train)\n",
    "    # 検証データで予測\n",
    "    y_pred = pd.DataFrame(clf.predict(X_val))\n",
    "    acc = clf.score(X_val, y_val)\n",
    "    f1 = f1_score(y_val, y_pred) \n",
    "    \n",
    "    # リストの一番最後に予測精度を付け足す\n",
    "    Accuracy_list.append(acc)\n",
    "    F1_list.append(f1)\n",
    "    \n",
    "    # 検証用データの予測精度(Open)\n",
    "    print(\"Open Accuracy (i =\", i , \"):\", acc) \n",
    "    print(\"F1-score (i =\", i , \"):\", f1) \n",
    "    \n",
    "    i +=1"
   ]
  },
  {
   "cell_type": "code",
   "execution_count": 37,
   "metadata": {},
   "outputs": [
    {
     "name": "stderr",
     "output_type": "stream",
     "text": [
      "findfont: Font family ['IPAexGothic'] not found. Falling back to DejaVu Sans.\n"
     ]
    },
    {
     "data": {
      "image/png": "[encoded data removed]",
      "text/plain": [
       "<Figure size 432x288 with 1 Axes>"
      ]
     },
     "metadata": {
      "needs_background": "light"
     },
     "output_type": "display_data"
    },
    {
     "data": {
      "image/png": "[encoded data removed]",
      "text/plain": [
       "<Figure size 432x288 with 1 Axes>"
      ]
     },
     "metadata": {
      "needs_background": "light"
     },
     "output_type": "display_data"
    }
   ],
   "source": [
    "# ハイパーパラメータ変更の結果の折れ線グラフ作成\n",
    "import numpy as np\n",
    "import matplotlib.pyplot as plt\n",
    "%matplotlib inline\n",
    "\n",
    "# Accuracy のグラフ\n",
    "left = np.array([1,2, 3, 4, 5, 6, 7, 8, 9, 10])\n",
    "height = np.array(Accuracy_list)\n",
    "plt.plot(left, height)\n",
    "plt.title('Optimization of hyper parameters (Random Forest)')\n",
    "plt.xlabel('min_samples_leaf')\n",
    "plt.ylabel('Open accuracy')\n",
    "plt.grid()\n",
    "plt.show()\n",
    "\n",
    "# F1値 のグラフ\n",
    "left = np.array([1,2, 3, 4, 5, 6, 7, 8, 9, 10])\n",
    "height = np.array(F1_list)\n",
    "plt.plot(left, height)\n",
    "plt.title('Optimization of hyper parameters (Random Forest)')\n",
    "plt.xlabel('min_samples_leaf')\n",
    "plt.ylabel('F1-score')\n",
    "plt.grid()\n",
    "plt.show()"
   ]
  },
  {
   "cell_type": "code",
   "execution_count": 38,
   "metadata": {},
   "outputs": [
    {
     "name": "stderr",
     "output_type": "stream",
     "text": [
      "C:\\Users\\301518\\AppData\\Local\\Continuum\\anaconda3\\envs\\Seminar\\lib\\site-packages\\sklearn\\ensemble\\forest.py:245: FutureWarning: The default value of n_estimators will change from 10 in version 0.20 to 100 in 0.22.\n",
      "  \"10 in version 0.20 to 100 in 0.22.\", FutureWarning)\n",
      "C:\\Users\\301518\\AppData\\Local\\Continuum\\anaconda3\\envs\\Seminar\\lib\\site-packages\\ipykernel_launcher.py:3: DataConversionWarning: A column-vector y was passed when a 1d array was expected. Please change the shape of y to (n_samples,), for example using ravel().\n",
      "  This is separate from the ipykernel package so we can avoid doing imports until\n"
     ]
    }
   ],
   "source": [
    "clf = RandomForestClassifier(min_samples_leaf=3, random_state=0) # clf: classifier（分類器） の略\n",
    "# モデルの学習\n",
    "clf = clf.fit(X_train, y_train)\n",
    "# 検証データで予測\n",
    "y_pred = pd.DataFrame(clf.predict(X_val))"
   ]
  },
  {
   "cell_type": "code",
   "execution_count": 39,
   "metadata": {},
   "outputs": [
    {
     "name": "stdout",
     "output_type": "stream",
     "text": [
      "Confusion Matrix\n",
      "------------------\n",
      "[[3231   21]\n",
      " [  50  278]]\n",
      "------------------\n",
      "              precision    recall  f1-score   support\n",
      "\n",
      "       False       0.99      0.98      0.99      3281\n",
      "        True       0.85      0.93      0.89       299\n",
      "\n",
      "    accuracy                           0.98      3580\n",
      "   macro avg       0.92      0.96      0.94      3580\n",
      "weighted avg       0.98      0.98      0.98      3580\n",
      "\n"
     ]
    }
   ],
   "source": [
    "from sklearn.metrics import confusion_matrix\n",
    "from sklearn.metrics import classification_report\n",
    "\n",
    "y_pred = clf.predict(X_val)\n",
    "\n",
    "# 混合行列\n",
    "cm = confusion_matrix(y_val, y_pred)\n",
    "print(\"Confusion Matrix\")\n",
    "print(\"------------------\")\n",
    "print(cm)\n",
    "print(\"------------------\")\n",
    "\n",
    "# Generate a classification report\n",
    "report = classification_report(y_val, pred, target_names=['False','True'])\n",
    "\n",
    "print(report)"
   ]
  },
  {
   "cell_type": "markdown",
   "metadata": {},
   "source": [
    "### 4-4-2. グリッドサーチ"
   ]
  },
  {
   "cell_type": "code",
   "execution_count": 40,
   "metadata": {
    "scrolled": true
   },
   "outputs": [
    {
     "name": "stdout",
     "output_type": "stream",
     "text": [
      "RandomForestClassifier(bootstrap=True, class_weight=None, criterion='gini',\n",
      "                       max_depth=None, max_features='auto', max_leaf_nodes=None,\n",
      "                       min_impurity_decrease=0.0, min_impurity_split=None,\n",
      "                       min_samples_leaf=3, min_samples_split=2,\n",
      "                       min_weight_fraction_leaf=0.0, n_estimators=10,\n",
      "                       n_jobs=None, oob_score=False, random_state=0, verbose=0,\n",
      "                       warm_start=False)\n"
     ]
    }
   ],
   "source": [
    "# ランダムフォレストのハイパーパラメーター設定値\n",
    "print(clf)"
   ]
  },
  {
   "cell_type": "code",
   "execution_count": 41,
   "metadata": {},
   "outputs": [],
   "source": [
    "from sklearn.model_selection import GridSearchCV # グリッドサーチのライブラリ読み込み\n",
    "\n",
    "# グリッドサーチするパラメーターと範囲設定\n",
    "search_params = {\n",
    "    'n_estimators'      : [60, 70, 80],\n",
    "    'min_samples_leaf'  : [1, 2, 3],\n",
    "    'min_samples_split' : [8, 9, 10],\n",
    "    'max_depth'         : [50, 60, 70]\n",
    "}"
   ]
  },
  {
   "cell_type": "code",
   "execution_count": 42,
   "metadata": {
    "scrolled": true
   },
   "outputs": [
    {
     "name": "stdout",
     "output_type": "stream",
     "text": [
      "Fitting 5 folds for each of 81 candidates, totalling 405 fits\n"
     ]
    },
    {
     "name": "stderr",
     "output_type": "stream",
     "text": [
      "[Parallel(n_jobs=-1)]: Using backend LokyBackend with 8 concurrent workers.\n",
      "[Parallel(n_jobs=-1)]: Done  34 tasks      | elapsed:   12.2s\n",
      "[Parallel(n_jobs=-1)]: Done 184 tasks      | elapsed:   51.6s\n",
      "[Parallel(n_jobs=-1)]: Done 405 out of 405 | elapsed:  2.0min finished\n",
      "C:\\Users\\301518\\AppData\\Local\\Continuum\\anaconda3\\envs\\Seminar\\lib\\site-packages\\sklearn\\model_selection\\_search.py:714: DataConversionWarning: A column-vector y was passed when a 1d array was expected. Please change the shape of y to (n_samples,), for example using ravel().\n",
      "  self.best_estimator_.fit(X, y, **fit_params)\n"
     ]
    },
    {
     "name": "stdout",
     "output_type": "stream",
     "text": [
      "RandomForestClassifier(bootstrap=True, class_weight=None, criterion='gini',\n",
      "                       max_depth=70, max_features='auto', max_leaf_nodes=None,\n",
      "                       min_impurity_decrease=0.0, min_impurity_split=None,\n",
      "                       min_samples_leaf=3, min_samples_split=8,\n",
      "                       min_weight_fraction_leaf=0.0, n_estimators=60,\n",
      "                       n_jobs=None, oob_score=False, random_state=None,\n",
      "                       verbose=0, warm_start=False)\n",
      "{'max_depth': 70, 'min_samples_leaf': 3, 'min_samples_split': 8, 'n_estimators': 60}\n"
     ]
    }
   ],
   "source": [
    "# GridSearchCVクラスに渡して探索\n",
    "gs = GridSearchCV(RandomForestClassifier(), # 対象の機械学習モデル\n",
    "                  search_params,            # 探索パラメタ辞書\n",
    "                  cv=5,                     # クロスバリデーションの分割数\n",
    "                  scoring=\"accuracy\",             # metrics\n",
    "                  verbose=True,            # ログ表示\n",
    "                  n_jobs=-1)               # 並列処理\n",
    "\n",
    "gs.fit(X_train, y_train)\n",
    " \n",
    "print(gs.best_estimator_)\n",
    "print(gs.best_params_)"
   ]
  },
  {
   "cell_type": "code",
   "execution_count": 43,
   "metadata": {},
   "outputs": [
    {
     "name": "stdout",
     "output_type": "stream",
     "text": [
      "Confusion Matrix\n",
      "------------------\n",
      "[[3228   24]\n",
      " [  55  273]]\n",
      "------------------\n",
      "              precision    recall  f1-score   support\n",
      "\n",
      "       False       0.99      0.98      0.99      3283\n",
      "        True       0.83      0.92      0.87       297\n",
      "\n",
      "    accuracy                           0.98      3580\n",
      "   macro avg       0.91      0.95      0.93      3580\n",
      "weighted avg       0.98      0.98      0.98      3580\n",
      "\n"
     ]
    }
   ],
   "source": [
    "from sklearn.metrics import classification_report\n",
    "\n",
    "y_pred = gs.predict(X_val)\n",
    "\n",
    "# 混合行列\n",
    "cm = confusion_matrix(y_val, y_pred)\n",
    "print(\"Confusion Matrix\")\n",
    "print(\"------------------\")\n",
    "print(cm)\n",
    "print(\"------------------\")\n",
    "\n",
    "# Generate a classification report\n",
    "report = classification_report(y_val, y_pred, target_names=['False','True'])\n",
    "\n",
    "print(report)"
   ]
  },
  {
   "cell_type": "markdown",
   "metadata": {},
   "source": [
    "### 4-4-3. ランダムサーチ"
   ]
  },
  {
   "cell_type": "code",
   "execution_count": 44,
   "metadata": {},
   "outputs": [],
   "source": [
    "# グリッドサーチの最適値\n",
    "# {'max_depth': 50, 'min_samples_leaf': 2, 'min_samples_split': 8, 'n_estimators': 60}\n",
    "\n",
    "from sklearn.model_selection import RandomizedSearchCV # ランダムサーチのライブラリ読み込み\n",
    "from scipy.stats import randint as sp_randint\n",
    "\n",
    "search_params = {\"max_depth\": sp_randint(10, 100),\n",
    "                 \"n_estimators\": sp_randint(10, 100),\n",
    "                 \"min_samples_split\": sp_randint(2, 10),\n",
    "                 \"min_samples_leaf\": sp_randint(1, 10)}"
   ]
  },
  {
   "cell_type": "code",
   "execution_count": 45,
   "metadata": {},
   "outputs": [
    {
     "name": "stdout",
     "output_type": "stream",
     "text": [
      "Fitting 5 folds for each of 10 candidates, totalling 50 fits\n"
     ]
    },
    {
     "name": "stderr",
     "output_type": "stream",
     "text": [
      "[Parallel(n_jobs=-1)]: Using backend LokyBackend with 8 concurrent workers.\n",
      "[Parallel(n_jobs=-1)]: Done  34 tasks      | elapsed:    6.7s\n",
      "[Parallel(n_jobs=-1)]: Done  50 out of  50 | elapsed:   10.3s finished\n",
      "C:\\Users\\301518\\AppData\\Local\\Continuum\\anaconda3\\envs\\Seminar\\lib\\site-packages\\sklearn\\model_selection\\_search.py:714: DataConversionWarning: A column-vector y was passed when a 1d array was expected. Please change the shape of y to (n_samples,), for example using ravel().\n",
      "  self.best_estimator_.fit(X, y, **fit_params)\n"
     ]
    },
    {
     "name": "stdout",
     "output_type": "stream",
     "text": [
      "RandomForestClassifier(bootstrap=True, class_weight=None, criterion='gini',\n",
      "                       max_depth=11, max_features='auto', max_leaf_nodes=None,\n",
      "                       min_impurity_decrease=0.0, min_impurity_split=None,\n",
      "                       min_samples_leaf=1, min_samples_split=8,\n",
      "                       min_weight_fraction_leaf=0.0, n_estimators=30,\n",
      "                       n_jobs=None, oob_score=False, random_state=None,\n",
      "                       verbose=0, warm_start=False)\n",
      "{'max_depth': 11, 'min_samples_leaf': 1, 'min_samples_split': 8, 'n_estimators': 30}\n"
     ]
    }
   ],
   "source": [
    "# RandomizedSearchCVクラスに渡して探索\n",
    "rs = RandomizedSearchCV(RandomForestClassifier(),\n",
    "                        search_params,     # 探索パラメタ辞書\n",
    "                        cv=5,              # クロスバリデーションの分割数\n",
    "                        scoring=\"accuracy\",      # metrics\n",
    "                        verbose=True,     # ログ表示\n",
    "                        n_jobs=-1)         # 並列処理\n",
    "                                    \n",
    "rs.fit(X_train, y_train)\n",
    "print(rs.best_estimator_)\n",
    "print(rs.best_params_)"
   ]
  },
  {
   "cell_type": "code",
   "execution_count": 46,
   "metadata": {},
   "outputs": [
    {
     "name": "stdout",
     "output_type": "stream",
     "text": [
      "Confusion Matrix\n",
      "------------------\n",
      "[[3234   18]\n",
      " [  58  270]]\n",
      "------------------\n",
      "              precision    recall  f1-score   support\n",
      "\n",
      "       False       0.99      0.98      0.99      3292\n",
      "        True       0.82      0.94      0.88       288\n",
      "\n",
      "    accuracy                           0.98      3580\n",
      "   macro avg       0.91      0.96      0.93      3580\n",
      "weighted avg       0.98      0.98      0.98      3580\n",
      "\n"
     ]
    }
   ],
   "source": [
    "from sklearn.metrics import classification_report\n",
    "\n",
    "y_pred = rs.predict(X_val)\n",
    "\n",
    "# 混合行列\n",
    "cm = confusion_matrix(y_val, y_pred)\n",
    "print(\"Confusion Matrix\")\n",
    "print(\"------------------\")\n",
    "print(cm)\n",
    "print(\"------------------\")\n",
    "\n",
    "# Generate a classification report\n",
    "report = classification_report(y_val, y_pred, target_names=['False','True'])\n",
    "\n",
    "print(report)"
   ]
  },
  {
   "cell_type": "code",
   "execution_count": null,
   "metadata": {},
   "outputs": [],
   "source": []
  }
 ],
 "metadata": {
  "kernelspec": {
   "display_name": "Python 3",
   "language": "python",
   "name": "python3"
  },
  "language_info": {
   "codemirror_mode": {
    "name": "ipython",
    "version": 3
   },
   "file_extension": ".py",
   "mimetype": "text/x-python",
   "name": "python",
   "nbconvert_exporter": "python",
   "pygments_lexer": "ipython3",
   "version": "3.7.7"
  }
 },
 "nbformat": 4,
 "nbformat_minor": 2
}
